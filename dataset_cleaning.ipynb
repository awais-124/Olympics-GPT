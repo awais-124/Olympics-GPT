{
 "cells": [
  {
   "cell_type": "code",
   "execution_count": 2,
   "metadata": {},
   "outputs": [],
   "source": [
    "import pandas as pd"
   ]
  },
  {
   "cell_type": "markdown",
   "metadata": {},
   "source": [
    "# Data Cleaning\n",
    "\n",
    "- Replacing Nan values\n",
    "- Using mean for numeric \n",
    "- Using mode for textual data"
   ]
  },
  {
   "cell_type": "code",
   "execution_count": null,
   "metadata": {},
   "outputs": [],
   "source": [
    "bios_df=pd.read_csv('./uncleaned_datasets/bios.csv')\n",
    "results_df=pd.read_csv('./uncleaned_datasets/results.csv')"
   ]
  },
  {
   "cell_type": "markdown",
   "metadata": {},
   "source": [
    "### Replace height and weight null values with their respective mean"
   ]
  },
  {
   "cell_type": "code",
   "execution_count": 5,
   "metadata": {},
   "outputs": [
    {
     "name": "stdout",
     "output_type": "stream",
     "text": [
      "Average height: 176.3\n",
      "Average weight: 71.9\n"
     ]
    }
   ],
   "source": [
    "# Get means rounded to 2 decimal places\n",
    "height_mean = round(bios_df['height_cm'].mean(), 1)\n",
    "weight_mean = round(bios_df['weight_kg'].mean(), 1)\n",
    "\n",
    "# Replace NaN values with rounded means\n",
    "bios_df['height_cm'] = bios_df['height_cm'].fillna(height_mean)\n",
    "bios_df['weight_kg'] = bios_df['weight_kg'].fillna(weight_mean)\n",
    "\n",
    "# Verify the changes and see the rounded means\n",
    "print(\"Average height:\", height_mean)  # Should show 176.33\n",
    "print(\"Average weight:\", weight_mean)  # Should show 71.89"
   ]
  },
  {
   "cell_type": "markdown",
   "metadata": {},
   "source": [
    "### Handling missing dates"
   ]
  },
  {
   "cell_type": "code",
   "execution_count": 8,
   "metadata": {},
   "outputs": [],
   "source": [
    "from datetime import datetime, timedelta\n",
    "\n",
    "def clean_dataset(df):\n",
    "    \"\"\"\n",
    "    Cleans the dataset by handling missing values in born_date and died_date columns.\n",
    "    \n",
    "    Parameters:\n",
    "    df (pandas.DataFrame): The input dataset\n",
    "    \n",
    "    Returns:\n",
    "    pandas.DataFrame: The cleaned dataset\n",
    "    \"\"\"\n",
    "    # Handle missing born_date\n",
    "    df['born_date'] = pd.to_datetime(df['born_date'], errors='coerce')\n",
    "    df['died_date'] = pd.to_datetime(df['died_date'], errors='coerce')\n",
    "    \n",
    "    # Fill in missing dates\n",
    "    df.loc[df['born_date'].isna() & df['died_date'].notna(), 'born_date'] = df.loc[df['born_date'].isna() & df['died_date'].notna(), 'died_date'] - timedelta(days=60*365 + 2*30 + 3)\n",
    "    df.loc[df['died_date'].isna() & df['born_date'].notna(), 'died_date'] = df.loc[df['died_date'].isna() & df['born_date'].notna(), 'born_date'] + timedelta(days=60*365 + 2*30 + 3)\n",
    "    df.loc[df['born_date'].isna() & df['died_date'].isna(), ['born_date', 'died_date']] = ['1898-07-16', '1969-11-27']\n",
    "    \n",
    "    # Convert to datetime\n",
    "    df['born_date'] = pd.to_datetime(df['born_date'])\n",
    "    df['died_date'] = pd.to_datetime(df['died_date'])\n",
    "    \n",
    "    return df"
   ]
  },
  {
   "cell_type": "code",
   "execution_count": 9,
   "metadata": {},
   "outputs": [],
   "source": [
    "bios_df=clean_dataset(bios_df)"
   ]
  },
  {
   "cell_type": "markdown",
   "metadata": {},
   "source": [
    "### Handling missing region information"
   ]
  },
  {
   "cell_type": "code",
   "execution_count": 13,
   "metadata": {},
   "outputs": [],
   "source": [
    "def replace_nan_with_mode(df):\n",
    "    \"\"\"\n",
    "    Replace NaN values in the DataFrame with the mode of each column, except for 'NOC' which is replaced with 'FRA'.\n",
    "    \n",
    "    Parameters:\n",
    "    df (pandas.DataFrame): The input DataFrame\n",
    "    \n",
    "    Returns:\n",
    "    pandas.DataFrame: The DataFrame with NaN values replaced\n",
    "    \"\"\"\n",
    "    # Replace NaN in 'NOC' column with 'FRA'\n",
    "    df['NOC'] = df['NOC'].fillna('FRA')\n",
    "    \n",
    "    # Replace NaN in other columns with mode\n",
    "    for col in ['born_city', 'born_region', 'born_country']:\n",
    "        df[col] = df[col].fillna(df[col].mode().iloc[0])\n",
    "    \n",
    "    return df"
   ]
  },
  {
   "cell_type": "code",
   "execution_count": 14,
   "metadata": {},
   "outputs": [],
   "source": [
    "bios_df=replace_nan_with_mode(bios_df)"
   ]
  },
  {
   "cell_type": "markdown",
   "metadata": {},
   "source": [
    "### Below output show, no null values remain in bios_df"
   ]
  },
  {
   "cell_type": "code",
   "execution_count": 16,
   "metadata": {},
   "outputs": [
    {
     "name": "stdout",
     "output_type": "stream",
     "text": [
      "athlete_id      0\n",
      "name            0\n",
      "born_date       0\n",
      "born_city       0\n",
      "born_region     0\n",
      "born_country    0\n",
      "NOC             0\n",
      "height_cm       0\n",
      "weight_kg       0\n",
      "died_date       0\n",
      "dtype: int64\n"
     ]
    }
   ],
   "source": [
    "print(bios_df.isna().sum())"
   ]
  },
  {
   "cell_type": "markdown",
   "metadata": {},
   "source": [
    "# Handling `result_df` dataset"
   ]
  },
  {
   "cell_type": "code",
   "execution_count": 19,
   "metadata": {},
   "outputs": [
    {
     "name": "stdout",
     "output_type": "stream",
     "text": [
      "year            2601\n",
      "type            2601\n",
      "discipline         1\n",
      "event              0\n",
      "as                 0\n",
      "athlete_id         0\n",
      "noc                1\n",
      "team          186694\n",
      "place          25215\n",
      "tied               0\n",
      "medal         264269\n",
      "dtype: int64\n"
     ]
    }
   ],
   "source": [
    "print(results_df.isna().sum())"
   ]
  },
  {
   "cell_type": "code",
   "execution_count": 20,
   "metadata": {},
   "outputs": [
    {
     "data": {
      "text/plain": [
       "Index(['year', 'type', 'discipline', 'event', 'as', 'athlete_id', 'noc',\n",
       "       'team', 'place', 'tied', 'medal'],\n",
       "      dtype='object')"
      ]
     },
     "execution_count": 20,
     "metadata": {},
     "output_type": "execute_result"
    }
   ],
   "source": [
    "results_df.columns"
   ]
  },
  {
   "cell_type": "markdown",
   "metadata": {},
   "source": [
    "### Handling nan values in these columns: `['year', 'type', 'medal', 'place', 'team', 'discipline']`"
   ]
  },
  {
   "cell_type": "code",
   "execution_count": 22,
   "metadata": {},
   "outputs": [],
   "source": [
    "\n",
    "def replace_nan_values(df):\n",
    "    \"\"\"\n",
    "    Replace NaN values in the DataFrame with appropriate measures of central tendency.\n",
    "    \n",
    "    Parameters:\n",
    "    df (pandas.DataFrame): The input DataFrame\n",
    "    \n",
    "    Returns:\n",
    "    pandas.DataFrame: The DataFrame with NaN values replaced\n",
    "    \"\"\"\n",
    "    # Replace NaN in 'year', 'type', 'medal', 'place', 'team', 'discipline' columns with mode\n",
    "    for col in ['year', 'type', 'medal', 'place', 'team', 'discipline']:\n",
    "        df[col] = df[col].fillna(df[col].mode().iloc[0])\n",
    "    \n",
    "    # Replace NaN in 'noc' column with 'FRA'\n",
    "    df['noc'] = df['noc'].fillna('FRA')\n",
    "    \n",
    "    return df"
   ]
  },
  {
   "cell_type": "code",
   "execution_count": 23,
   "metadata": {},
   "outputs": [],
   "source": [
    "results_df=replace_nan_values(results_df)"
   ]
  },
  {
   "cell_type": "code",
   "execution_count": 25,
   "metadata": {},
   "outputs": [
    {
     "name": "stdout",
     "output_type": "stream",
     "text": [
      "year          0\n",
      "type          0\n",
      "discipline    0\n",
      "event         0\n",
      "as            0\n",
      "athlete_id    0\n",
      "noc           0\n",
      "team          0\n",
      "place         0\n",
      "tied          0\n",
      "medal         0\n",
      "dtype: int64\n"
     ]
    }
   ],
   "source": [
    "print(results_df.isna().sum())"
   ]
  },
  {
   "cell_type": "markdown",
   "metadata": {},
   "source": [
    "### Now null count is 0 as shown above in output."
   ]
  },
  {
   "cell_type": "markdown",
   "metadata": {},
   "source": [
    "### Saving data after cleaning."
   ]
  },
  {
   "cell_type": "code",
   "execution_count": 26,
   "metadata": {},
   "outputs": [],
   "source": [
    "bios_df.to_csv('./cleaned_data/bios.csv', index=False)\n",
    "results_df.to_csv('./cleaned_data/results.csv', index=False)"
   ]
  }
 ],
 "metadata": {
  "kernelspec": {
   "display_name": "Python 3",
   "language": "python",
   "name": "python3"
  },
  "language_info": {
   "codemirror_mode": {
    "name": "ipython",
    "version": 3
   },
   "file_extension": ".py",
   "mimetype": "text/x-python",
   "name": "python",
   "nbconvert_exporter": "python",
   "pygments_lexer": "ipython3",
   "version": "3.12.6"
  }
 },
 "nbformat": 4,
 "nbformat_minor": 2
}
