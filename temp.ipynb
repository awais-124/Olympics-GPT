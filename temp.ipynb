{
 "cells": [
  {
   "cell_type": "code",
   "execution_count": null,
   "metadata": {},
   "outputs": [],
   "source": [
    "def calculate_edit_distance(str1: str, str2: str) -> int:\n",
    "    m, n = len(str1), len(str2)\n",
    "    dp = [[0 for _ in range(n + 1)] for _ in range(m + 1)]\n",
    "    \n",
    "    str1=str1.lower()\n",
    "    str2=str2.lower()\n",
    "    # Initialize first row and column\n",
    "    for i in range(m + 1):\n",
    "        dp[i][0] = i\n",
    "    for j in range(n + 1):\n",
    "        dp[0][j] = j\n",
    "    \n",
    "    # Fill the matrix\n",
    "    for i in range(1, m + 1):\n",
    "        for j in range(1, n + 1):\n",
    "            if str1[i-1] == str2[j-1]:\n",
    "                dp[i][j] = dp[i-1][j-1]\n",
    "            else:\n",
    "                dp[i][j] = min(\n",
    "                    dp[i-1][j] + 1,    # deletion\n",
    "                    dp[i][j-1] + 1,    # insertion\n",
    "                    dp[i-1][j-1] + 1   # substitution\n",
    "                )\n",
    "    \n",
    "    return dp[m][n]"
   ]
  },
  {
   "cell_type": "code",
   "execution_count": 5,
   "metadata": {},
   "outputs": [
    {
     "data": {
      "text/plain": [
       "1"
      ]
     },
     "execution_count": 5,
     "metadata": {},
     "output_type": "execute_result"
    }
   ],
   "source": [
    "calculate_edit_distance(\"How you doing\",\"how you doin'\")"
   ]
  },
  {
   "cell_type": "code",
   "execution_count": 1,
   "metadata": {},
   "outputs": [],
   "source": [
    "import json\n",
    "\n",
    "def save_to_file(filename, data):\n",
    "    with open(filename, 'w') as file:\n",
    "        json.dump(data, file, indent=4)\n"
   ]
  },
  {
   "cell_type": "code",
   "execution_count": 4,
   "metadata": {},
   "outputs": [],
   "source": [
    "def read_from_file(filename):\n",
    "    try:\n",
    "        with open(filename, 'r') as file:\n",
    "            data = json.load(file) or {}\n",
    "            return data\n",
    "    except FileNotFoundError:\n",
    "        # If the file doesn't exist, return an empty dictionary\n",
    "        return {}\n"
   ]
  },
  {
   "cell_type": "code",
   "execution_count": 6,
   "metadata": {},
   "outputs": [],
   "source": [
    "qa_data = read_from_file(\"qa_pairs.json\")  # Load existing Q/A pairs from the file"
   ]
  },
  {
   "cell_type": "code",
   "execution_count": 7,
   "metadata": {},
   "outputs": [
    {
     "data": {
      "text/plain": [
       "dict"
      ]
     },
     "execution_count": 7,
     "metadata": {},
     "output_type": "execute_result"
    }
   ],
   "source": [
    "type(qa_data)"
   ]
  },
  {
   "cell_type": "code",
   "execution_count": null,
   "metadata": {},
   "outputs": [],
   "source": [
    "def add_qa_pair(qa_data, question, answer):\n",
    "    qa_data[question] = answer  # Add or update the question-answer pair\n",
    "    save_to_file(\"qa_pairs.json\", qa_data)  # Save the updated dictionary to the file\n"
   ]
  },
  {
   "cell_type": "code",
   "execution_count": null,
   "metadata": {},
   "outputs": [],
   "source": [
    "def qa_main():\n",
    "    qa_data = read_from_file(\"qa_pairs.json\")  # Load existing Q/A pairs\n",
    "\n",
    "    # Sample conversation loop\n",
    "    while True:\n",
    "        question = input(\"User: \")\n",
    "        answer = qa_data[question] if question in qa_data else \"I don't know how to respond to that. Ask something else.\"\n",
    "        \n",
    "        print(\"BOT: \",answer)\n",
    "\n",
    "qa_main()"
   ]
  },
  {
   "cell_type": "code",
   "execution_count": 44,
   "metadata": {},
   "outputs": [],
   "source": [
    "def get_athlete_bio(athlete_name):\n",
    "    \"\"\"Get biographical information for an athlete\"\"\"\n",
    "    athlete_bio = bios_df[bios_df['name'] == athlete_name]\n",
    "    if athlete_bio.empty:\n",
    "        return \"Athlete not found.\"\n",
    "    return athlete_bio.iloc[0]"
   ]
  },
  {
   "cell_type": "code",
   "execution_count": 46,
   "metadata": {},
   "outputs": [
    {
     "name": "stdout",
     "output_type": "stream",
     "text": [
      "Athlete not found.\n"
     ]
    }
   ],
   "source": [
    "print(get_athlete_bio(\"Awais\"))"
   ]
  },
  {
   "cell_type": "code",
   "execution_count": 4,
   "metadata": {},
   "outputs": [
    {
     "data": {
      "text/html": [
       "<div>\n",
       "<style scoped>\n",
       "    .dataframe tbody tr th:only-of-type {\n",
       "        vertical-align: middle;\n",
       "    }\n",
       "\n",
       "    .dataframe tbody tr th {\n",
       "        vertical-align: top;\n",
       "    }\n",
       "\n",
       "    .dataframe thead th {\n",
       "        text-align: right;\n",
       "    }\n",
       "</style>\n",
       "<table border=\"1\" class=\"dataframe\">\n",
       "  <thead>\n",
       "    <tr style=\"text-align: right;\">\n",
       "      <th></th>\n",
       "      <th>athlete_id</th>\n",
       "      <th>name</th>\n",
       "      <th>born_date</th>\n",
       "      <th>born_city</th>\n",
       "      <th>born_region</th>\n",
       "      <th>born_country</th>\n",
       "      <th>NOC</th>\n",
       "      <th>height_cm</th>\n",
       "      <th>weight_kg</th>\n",
       "      <th>died_date</th>\n",
       "    </tr>\n",
       "  </thead>\n",
       "  <tbody>\n",
       "    <tr>\n",
       "      <th>0</th>\n",
       "      <td>1</td>\n",
       "      <td>Jean-François Blanchy</td>\n",
       "      <td>1886-12-12</td>\n",
       "      <td>Bordeaux</td>\n",
       "      <td>Gironde</td>\n",
       "      <td>FRA</td>\n",
       "      <td>France</td>\n",
       "      <td>NaN</td>\n",
       "      <td>NaN</td>\n",
       "      <td>1960-10-02</td>\n",
       "    </tr>\n",
       "    <tr>\n",
       "      <th>1</th>\n",
       "      <td>2</td>\n",
       "      <td>Arnaud Boetsch</td>\n",
       "      <td>1969-04-01</td>\n",
       "      <td>Meulan</td>\n",
       "      <td>Yvelines</td>\n",
       "      <td>FRA</td>\n",
       "      <td>France</td>\n",
       "      <td>183.0</td>\n",
       "      <td>76.0</td>\n",
       "      <td>NaN</td>\n",
       "    </tr>\n",
       "    <tr>\n",
       "      <th>2</th>\n",
       "      <td>3</td>\n",
       "      <td>Jean Borotra</td>\n",
       "      <td>1898-08-13</td>\n",
       "      <td>Biarritz</td>\n",
       "      <td>Pyrénées-Atlantiques</td>\n",
       "      <td>FRA</td>\n",
       "      <td>France</td>\n",
       "      <td>183.0</td>\n",
       "      <td>76.0</td>\n",
       "      <td>1994-07-17</td>\n",
       "    </tr>\n",
       "    <tr>\n",
       "      <th>3</th>\n",
       "      <td>4</td>\n",
       "      <td>Jacques Brugnon</td>\n",
       "      <td>1895-05-11</td>\n",
       "      <td>Paris VIIIe</td>\n",
       "      <td>Paris</td>\n",
       "      <td>FRA</td>\n",
       "      <td>France</td>\n",
       "      <td>168.0</td>\n",
       "      <td>64.0</td>\n",
       "      <td>1978-03-20</td>\n",
       "    </tr>\n",
       "    <tr>\n",
       "      <th>4</th>\n",
       "      <td>5</td>\n",
       "      <td>Albert Canet</td>\n",
       "      <td>1878-04-17</td>\n",
       "      <td>Wandsworth</td>\n",
       "      <td>England</td>\n",
       "      <td>GBR</td>\n",
       "      <td>France</td>\n",
       "      <td>NaN</td>\n",
       "      <td>NaN</td>\n",
       "      <td>1930-07-25</td>\n",
       "    </tr>\n",
       "  </tbody>\n",
       "</table>\n",
       "</div>"
      ],
      "text/plain": [
       "   athlete_id                   name   born_date    born_city  \\\n",
       "0           1  Jean-François Blanchy  1886-12-12     Bordeaux   \n",
       "1           2         Arnaud Boetsch  1969-04-01       Meulan   \n",
       "2           3           Jean Borotra  1898-08-13     Biarritz   \n",
       "3           4        Jacques Brugnon  1895-05-11  Paris VIIIe   \n",
       "4           5           Albert Canet  1878-04-17   Wandsworth   \n",
       "\n",
       "            born_region born_country     NOC  height_cm  weight_kg   died_date  \n",
       "0               Gironde          FRA  France        NaN        NaN  1960-10-02  \n",
       "1              Yvelines          FRA  France      183.0       76.0         NaN  \n",
       "2  Pyrénées-Atlantiques          FRA  France      183.0       76.0  1994-07-17  \n",
       "3                 Paris          FRA  France      168.0       64.0  1978-03-20  \n",
       "4               England          GBR  France        NaN        NaN  1930-07-25  "
      ]
     },
     "execution_count": 4,
     "metadata": {},
     "output_type": "execute_result"
    }
   ],
   "source": [
    "bios_df.head()"
   ]
  },
  {
   "cell_type": "code",
   "execution_count": 19,
   "metadata": {},
   "outputs": [],
   "source": [
    "results_df['medal'] = results_df['medal'].fillna(\"No Medal\")"
   ]
  },
  {
   "cell_type": "code",
   "execution_count": 29,
   "metadata": {},
   "outputs": [],
   "source": [
    "results_df['team'] = results_df['team'].fillna(\"No Team\")"
   ]
  },
  {
   "cell_type": "code",
   "execution_count": 31,
   "metadata": {},
   "outputs": [],
   "source": [
    "results_df.to_csv('./chatbot-data/results.csv', index=False)"
   ]
  },
  {
   "cell_type": "code",
   "execution_count": 38,
   "metadata": {},
   "outputs": [
    {
     "name": "stdout",
     "output_type": "stream",
     "text": [
      "Average height: 176.3\n",
      "Average weight: 71.9\n"
     ]
    }
   ],
   "source": [
    "# Get means rounded to 2 decimal places\n",
    "height_mean = round(bios_df['height_cm'].mean(), 1)\n",
    "weight_mean = round(bios_df['weight_kg'].mean(), 1)\n",
    "\n",
    "# Replace NaN values with rounded means\n",
    "bios_df['height_cm'] = bios_df['height_cm'].fillna(height_mean)\n",
    "bios_df['weight_kg'] = bios_df['weight_kg'].fillna(weight_mean)\n",
    "\n",
    "# Verify the changes and see the rounded means\n",
    "print(\"Average height:\", height_mean)  # Should show 176.33\n",
    "print(\"Average weight:\", weight_mean)  # Should show 71.89"
   ]
  },
  {
   "cell_type": "code",
   "execution_count": 40,
   "metadata": {},
   "outputs": [],
   "source": [
    "bios_df = bios_df.dropna(subset=['born_date'])"
   ]
  },
  {
   "cell_type": "code",
   "execution_count": 41,
   "metadata": {},
   "outputs": [],
   "source": [
    "bios_df = bios_df.dropna(subset=['died_date'])"
   ]
  },
  {
   "cell_type": "code",
   "execution_count": 43,
   "metadata": {},
   "outputs": [
    {
     "data": {
      "text/plain": [
       "(33847, 10)"
      ]
     },
     "execution_count": 43,
     "metadata": {},
     "output_type": "execute_result"
    }
   ],
   "source": [
    "bios_df.shape"
   ]
  },
  {
   "cell_type": "code",
   "execution_count": 48,
   "metadata": {},
   "outputs": [],
   "source": [
    "results_df = results_df.dropna(subset=['place'])"
   ]
  },
  {
   "cell_type": "markdown",
   "metadata": {},
   "source": [
    "# DROP ALL ROWS WITH NAN VALUES\n",
    "\n",
    "```python\n",
    "for column in results_df.columns:\n",
    "    results_df = results_df.dropna(subset=[column])\n",
    "```\n",
    "\n",
    "--- \n",
    "\n",
    "> Or use the approach below in one line"
   ]
  },
  {
   "cell_type": "code",
   "execution_count": 49,
   "metadata": {},
   "outputs": [
    {
     "name": "stdout",
     "output_type": "stream",
     "text": [
      "Dropped 0 rows out of 281518\n"
     ]
    }
   ],
   "source": [
    "# Drop all rows with any NaN values in one go\n",
    "results_df = results_df.dropna()\n",
    "\n",
    "# Or to see how many rows would be dropped first:\n",
    "original_rows = len(results_df)\n",
    "cleaned_df = results_df.dropna()\n",
    "dropped_rows = original_rows - len(cleaned_df)\n",
    "print(f\"Dropped {dropped_rows} rows out of {original_rows}\")"
   ]
  },
  {
   "cell_type": "code",
   "execution_count": 51,
   "metadata": {},
   "outputs": [],
   "source": [
    "results_df.to_csv('./chatbot-data/results.csv', index=False)\n",
    "bios_df.to_csv('./chatbot-data/bios.csv', index=False)"
   ]
  },
  {
   "cell_type": "markdown",
   "metadata": {},
   "source": [
    "### Who won medals in tennis in 1924?\n",
    "\n",
    "> This will return all results in sentence form.\n",
    "\n",
    "```python\n",
    "medalists = interpret_question(\"Who won medals in tennis in 1924?\")\n",
    "print(medalists.columns,type(medalists))\n",
    "for index, medalist in medalists.iterrows():\n",
    "    print(f\"{index}. {medalist['name']} from {medalist['NOC']} won a {medalist['medal']} medal in {medalist['event']} ({medalist['discipline']}).\")\n",
    "```        "
   ]
  },
  {
   "cell_type": "markdown",
   "metadata": {},
   "source": [
    "### Which athletes competed in Tennis in 1920?\n",
    "---\n",
    "> \n",
    "\n",
    "```python\n",
    "athletes_by_sport=(interpret_question(\"Which athletes competed in Tennis in 1920?\")) \n",
    "counter=1\n",
    "for index, athletes in athletes_by_sport.iterrows():\n",
    "    print(f\"{counter}: Athlete id={index} -> {athletes[\"name\"]}  participated from {athletes[\"NOC\"]}.\")\n",
    "    counter+=1\n",
    "```    "
   ]
  },
  {
   "cell_type": "code",
   "execution_count": 1,
   "metadata": {},
   "outputs": [],
   "source": [
    "import pandas as pd\n",
    "bios_df= pd.read_csv(\"./clean-data/bios.csv\")\n",
    "results_df=pd.read_csv(\"./clean-data/results.csv\")\n"
   ]
  },
  {
   "cell_type": "code",
   "execution_count": 2,
   "metadata": {},
   "outputs": [
    {
     "data": {
      "text/plain": [
       "Index(['year', 'type', 'discipline', 'event', 'as', 'athlete_id', 'noc',\n",
       "       'team', 'place', 'tied', 'medal'],\n",
       "      dtype='object')"
      ]
     },
     "execution_count": 2,
     "metadata": {},
     "output_type": "execute_result"
    }
   ],
   "source": [
    "results_df.columns"
   ]
  },
  {
   "cell_type": "markdown",
   "metadata": {},
   "source": [
    "\n",
    "---\n",
    "\n",
    "### Give medals won by Jean Borotra?\n",
    "\n",
    "\n",
    "> Code: \n",
    "```python\n",
    "    all_medals = (interpret_question(\"Give medals won by Jean Borotra\"))\n",
    "    print(f\"Following medals are won by {all_medals[\"name\"]}: \")\n",
    "    for index, medal in all_medals[\"medals\"].iterrows():\n",
    "        print(f\"{medal['medal'] if medal[\"medal\"] != \"No Medal\" else \"Silver\"} medal in {medal['discipline']} in the year {int(medal['year'])} at {medal[\"event\"]}.\")\n",
    "```    "
   ]
  },
  {
   "cell_type": "markdown",
   "metadata": {},
   "source": [
    "### How many medals won by France?\n",
    "\n",
    "> Functions used `get_country_performance`\n",
    "\n",
    "> Code:\n",
    "```python\n",
    "medals_count=interpret_question(\"How many medals won by France?\")\n",
    "print(f\"Silver medals = {medals_count.get('Silver',0)}\\nGold medals = {medals_count.get('Gold',0)}\\nBronze medals = {medals_count.get(\"Bronze\",0)}\")\n",
    "```\n",
    "> "
   ]
  },
  {
   "cell_type": "markdown",
   "metadata": {},
   "source": [
    "### Show bio data of Jean Borotra.  \n",
    "\n",
    "> Get Bio data of athlete\n",
    "--- \n",
    "> Code:\n",
    "```python\n",
    "    athlete=interpret_question(\"Show bio data of Jean Borotra.\")\n",
    "    print(f\"Athlete ID: {athlete['athlete_id']}\")\n",
    "    print(f\"Name: {athlete['name']}\")\n",
    "    print(f\"Date of Birth: {athlete['born_date']} (Born in {athlete['born_city']}, {athlete['born_region']}, {athlete['born_country']})\")\n",
    "    print(f\"Height: {athlete['height_cm']} cm\")\n",
    "    print(f\"Weight: {athlete['weight_kg']} kg\")\n",
    "    print(f\"Date of Death: {athlete['died_date']}\")\n",
    "```"
   ]
  },
  {
   "cell_type": "code",
   "execution_count": 2,
   "metadata": {},
   "outputs": [],
   "source": [
    "import queries as actuators"
   ]
  },
  {
   "cell_type": "code",
   "execution_count": 4,
   "metadata": {},
   "outputs": [
    {
     "name": "stdout",
     "output_type": "stream",
     "text": [
      "Error: No data available for year 1995\n"
     ]
    },
    {
     "data": {
      "text/plain": [
       "False"
      ]
     },
     "execution_count": 4,
     "metadata": {},
     "output_type": "execute_result"
    }
   ],
   "source": [
    "actuators.get_medalists_by_year(\"1995\")"
   ]
  },
  {
   "cell_type": "code",
   "execution_count": null,
   "metadata": {},
   "outputs": [],
   "source": []
  }
 ],
 "metadata": {
  "kernelspec": {
   "display_name": "Python 3",
   "language": "python",
   "name": "python3"
  },
  "language_info": {
   "codemirror_mode": {
    "name": "ipython",
    "version": 3
   },
   "file_extension": ".py",
   "mimetype": "text/x-python",
   "name": "python",
   "nbconvert_exporter": "python",
   "pygments_lexer": "ipython3",
   "version": "3.12.6"
  }
 },
 "nbformat": 4,
 "nbformat_minor": 2
}
